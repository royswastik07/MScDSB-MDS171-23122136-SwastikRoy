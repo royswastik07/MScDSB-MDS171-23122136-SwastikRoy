{
 "cells": [
  {
   "cell_type": "code",
   "execution_count": 1,
   "id": "2e98d5de",
   "metadata": {},
   "outputs": [
    {
     "name": "stdout",
     "output_type": "stream",
     "text": [
      "Number of places2\n",
      "Enter the Value98\n"
     ]
    },
    {
     "data": {
      "text/plain": [
       "'98NineEight'"
      ]
     },
     "execution_count": 1,
     "metadata": {},
     "output_type": "execute_result"
    }
   ],
   "source": [
    "n = int(input(\"Number of places\"))\n",
    "val = str(input(\"Enter the Value\"))\n",
    "\n",
    "def help_Alice(val,n):\n",
    "    str = val\n",
    "    for i in range(0,n):\n",
    "        if val[i] =='0':\n",
    "            str= str +\"Zero\"\n",
    "        elif val[i] =='1':\n",
    "            str= str +\"One\"\n",
    "        elif val[i] =='2':\n",
    "            str= str +\"Two\"\n",
    "        elif val[i] =='3':\n",
    "            str= str +\"Three\"\n",
    "        elif val[i] =='4':\n",
    "            str= str +\"Four\"\n",
    "        elif val[i] =='5':\n",
    "            str= str +\"Five\"\n",
    "        elif val[i] =='6':\n",
    "            str= str +\"Six\"\n",
    "        elif val[i] =='7':\n",
    "            str= str +\"Seven\"\n",
    "        elif val[i] =='8':\n",
    "            str= str +\"Eight\"\n",
    "        else:\n",
    "            str= str +\"Nine\"\n",
    "    return str\n",
    "help_Alice(val,n)"
   ]
  },
  {
   "cell_type": "code",
   "execution_count": 2,
   "id": "33e5cd65",
   "metadata": {},
   "outputs": [
    {
     "data": {
      "text/plain": [
       "'98NineEight'"
      ]
     },
     "execution_count": 2,
     "metadata": {},
     "output_type": "execute_result"
    }
   ],
   "source": [
    "help_Alice(val,n)"
   ]
  },
  {
   "cell_type": "code",
   "execution_count": 3,
   "id": "6ba8767b",
   "metadata": {},
   "outputs": [
    {
     "name": "stdout",
     "output_type": "stream",
     "text": [
      "Number of places3\n",
      "Enter the Value345\n"
     ]
    },
    {
     "data": {
      "text/plain": [
       "'345ThreeFourFive'"
      ]
     },
     "execution_count": 3,
     "metadata": {},
     "output_type": "execute_result"
    }
   ],
   "source": [
    "n = int(input(\"Number of places\"))\n",
    "val = str(input(\"Enter the Value\"))\n",
    "\n",
    "def help_Alice(val,n):\n",
    "    str = val\n",
    "    for i in range(0,n):\n",
    "        if val[i] =='0':\n",
    "            str= str +\"Zero\"\n",
    "        elif val[i] =='1':\n",
    "            str= str +\"One\"\n",
    "        elif val[i] =='2':\n",
    "            str= str +\"Two\"\n",
    "        elif val[i] =='3':\n",
    "            str= str +\"Three\"\n",
    "        elif val[i] =='4':\n",
    "            str= str +\"Four\"\n",
    "        elif val[i] =='5':\n",
    "            str= str +\"Five\"\n",
    "        elif val[i] =='6':\n",
    "            str= str +\"Six\"\n",
    "        elif val[i] =='7':\n",
    "            str= str +\"Seven\"\n",
    "        elif val[i] =='8':\n",
    "            str= str +\"Eight\"\n",
    "        else:\n",
    "            str= str +\"Nine\"\n",
    "    return str\n",
    "help_Alice(val,n)"
   ]
  },
  {
   "cell_type": "code",
   "execution_count": 4,
   "id": "c14ac387",
   "metadata": {},
   "outputs": [
    {
     "name": "stdout",
     "output_type": "stream",
     "text": [
      "Number of places2\n",
      "Enter the Value24\n"
     ]
    },
    {
     "data": {
      "text/plain": [
       "'24TwoFour'"
      ]
     },
     "execution_count": 4,
     "metadata": {},
     "output_type": "execute_result"
    }
   ],
   "source": [
    "n = int(input(\"Number of places\"))\n",
    "val = str(input(\"Enter the Value\"))\n",
    "\n",
    "def help_Alice(val,n):\n",
    "    str = val\n",
    "    for i in range(0,n):\n",
    "        if val[i] =='0':\n",
    "            str= str +\"Zero\"\n",
    "        elif val[i] =='1':\n",
    "            str= str +\"One\"\n",
    "        elif val[i] =='2':\n",
    "            str= str +\"Two\"\n",
    "        elif val[i] =='3':\n",
    "            str= str +\"Three\"\n",
    "        elif val[i] =='4':\n",
    "            str= str +\"Four\"\n",
    "        elif val[i] =='5':\n",
    "            str= str +\"Five\"\n",
    "        elif val[i] =='6':\n",
    "            str= str +\"Six\"\n",
    "        elif val[i] =='7':\n",
    "            str= str +\"Seven\"\n",
    "        elif val[i] =='8':\n",
    "            str= str +\"Eight\"\n",
    "        else:\n",
    "            str= str +\"Nine\"\n",
    "    return str\n",
    "help_Alice(val,n)"
   ]
  },
  {
   "cell_type": "code",
   "execution_count": null,
   "id": "6b79b13a",
   "metadata": {},
   "outputs": [],
   "source": []
  }
 ],
 "metadata": {
  "kernelspec": {
   "display_name": "Python 3 (ipykernel)",
   "language": "python",
   "name": "python3"
  },
  "language_info": {
   "codemirror_mode": {
    "name": "ipython",
    "version": 3
   },
   "file_extension": ".py",
   "mimetype": "text/x-python",
   "name": "python",
   "nbconvert_exporter": "python",
   "pygments_lexer": "ipython3",
   "version": "3.10.4"
  }
 },
 "nbformat": 4,
 "nbformat_minor": 5
}
