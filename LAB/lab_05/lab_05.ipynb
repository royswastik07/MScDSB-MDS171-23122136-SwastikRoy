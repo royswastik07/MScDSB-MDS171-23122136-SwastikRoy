{
 "cells": [
  {
   "cell_type": "code",
   "execution_count": 4,
   "metadata": {},
   "outputs": [
    {
     "name": "stdout",
     "output_type": "stream",
     "text": [
      "The number of vowels is :2\n",
      "The number of vowel A is :1\n",
      "The number of vowel E is :0\n",
      "The number of vowel I is :1\n",
      "The number of vowel O is :0\n",
      "The number of vowel U is :0\n",
      "The percentage of vowels in the given string:28.57142857142857\n",
      "\n"
     ]
    }
   ],
   "source": [
    "def Vowel_Counter(user_input):        # define the function \n",
    "    \n",
    "    count = 0                         # define a variable count and assign 0 for count total no of variable \n",
    "    a_count=0                         # define a variable a_count and assign 0 for count total no of a\n",
    "    e_count=0                         \n",
    "    i_count=0                         \n",
    "    o_count=0                         \n",
    "    u_count=0                         \n",
    "    vowel = \"AEIOU\"                   # create a variable vowel to store vowels\n",
    "    for i in user_input:              # create a for loop for iterating each elements of the string\n",
    "        if i in vowel:                # check its vowel or not \n",
    "            count = count + 1\t        # increse 1 after each iteration\n",
    "            if i ==\"A\":               # check each and every elemnt and increse 1 after every elemnt \n",
    "              a_count = a_count + 1\n",
    "            elif i ==\"E\":\n",
    "              e_count = e_count + 1\n",
    "            elif i ==\"I\":\n",
    "              i_count = i_count + 1\n",
    "            elif i ==\"O\":\n",
    "              o_count = o_count + 1\n",
    "            elif i ==\"U\":\n",
    "              u_count = u_count + 1\n",
    "    percentage= (count/len(user_input))*100        # calculate total percentage\n",
    "    return count,a_count,e_count,i_count,o_count,u_count,percentage         # return all the values \n",
    "user_input=input(\"enter the string: \").upper()           # taking user input\n",
    "count,a,e,i,o,u,percent = Vowel_Counter(user_input)    # call the function \n",
    "print(f'''The number of vowels is :{count}\n",
    "The number of vowel A is :{a}\n",
    "The number of vowel E is :{e}\n",
    "The number of vowel I is :{i}\n",
    "The number of vowel O is :{o}\n",
    "The number of vowel U is :{u}\n",
    "The percentage of vowels in the given string:{percent}\n",
    "''')      # print all the outcomes"
   ]
  },
  {
   "cell_type": "code",
   "execution_count": null,
   "metadata": {},
   "outputs": [],
   "source": []
  }
 ],
 "metadata": {
  "kernelspec": {
   "display_name": "Python 3",
   "language": "python",
   "name": "python3"
  },
  "language_info": {
   "codemirror_mode": {
    "name": "ipython",
    "version": 3
   },
   "file_extension": ".py",
   "mimetype": "text/x-python",
   "name": "python",
   "nbconvert_exporter": "python",
   "pygments_lexer": "ipython3",
   "version": "3.10.4"
  },
  "orig_nbformat": 4
 },
 "nbformat": 4,
 "nbformat_minor": 2
}
