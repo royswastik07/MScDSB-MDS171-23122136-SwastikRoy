{
 "cells": [
  {
   "cell_type": "code",
   "execution_count": 1,
   "id": "e4b544eb",
   "metadata": {},
   "outputs": [
    {
     "name": "stdout",
     "output_type": "stream",
     "text": [
      "enter a name:swastik\n",
      "enter the number of time5\n",
      "swastik\n",
      "swastik\n",
      "swastik\n",
      "swastik\n",
      "swastik\n",
      "\n"
     ]
    }
   ],
   "source": [
    "n1=input (\"enter a name:\")\n",
    "n2=int(input(\"enter the number of time\"))\n",
    "output=(n1+\"\\n\")*n2\n",
    "print(output)"
   ]
  },
  {
   "cell_type": "code",
   "execution_count": 2,
   "id": "12a96c41",
   "metadata": {},
   "outputs": [
    {
     "name": "stdout",
     "output_type": "stream",
     "text": [
      "enter a name:lingu\n",
      "enter the nuber of time5\n",
      "lingu\n",
      "lingu\n",
      "lingu\n",
      "lingu\n",
      "lingu\n",
      "\n"
     ]
    }
   ],
   "source": [
    "n1=input (\"enter a name:\")\n",
    "n2=int(input(\"enter the nuber of time\"))\n",
    "output=(n1+\"\\n\")*n2\n",
    "print(output)"
   ]
  },
  {
   "cell_type": "code",
   "execution_count": 3,
   "id": "18fdc835",
   "metadata": {},
   "outputs": [
    {
     "name": "stdout",
     "output_type": "stream",
     "text": [
      "enter a name:manish\n",
      "enter the nuber of time2\n",
      "manish\n",
      "manish\n",
      "\n"
     ]
    }
   ],
   "source": [
    "n1=input (\"enter a name:\")\n",
    "n2=int(input(\"enter the nuber of time\"))\n",
    "output=(n1+\"\\n\")*n2\n",
    "print(output)"
   ]
  },
  {
   "cell_type": "code",
   "execution_count": null,
   "id": "ad6083b9",
   "metadata": {},
   "outputs": [],
   "source": []
  }
 ],
 "metadata": {
  "kernelspec": {
   "display_name": "Python 3 (ipykernel)",
   "language": "python",
   "name": "python3"
  },
  "language_info": {
   "codemirror_mode": {
    "name": "ipython",
    "version": 3
   },
   "file_extension": ".py",
   "mimetype": "text/x-python",
   "name": "python",
   "nbconvert_exporter": "python",
   "pygments_lexer": "ipython3",
   "version": "3.10.4"
  }
 },
 "nbformat": 4,
 "nbformat_minor": 5
}
